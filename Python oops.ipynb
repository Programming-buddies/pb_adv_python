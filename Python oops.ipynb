{
 "cells": [
  {
   "cell_type": "code",
   "execution_count": 1,
   "metadata": {},
   "outputs": [
    {
     "ename": "SyntaxError",
     "evalue": "invalid syntax (<ipython-input-1-ab11e1879db6>, line 2)",
     "output_type": "error",
     "traceback": [
      "\u001b[1;36m  File \u001b[1;32m\"<ipython-input-1-ab11e1879db6>\"\u001b[1;36m, line \u001b[1;32m2\u001b[0m\n\u001b[1;33m    An object is an entity that has attributes and behaviour.\u001b[0m\n\u001b[1;37m            ^\u001b[0m\n\u001b[1;31mSyntaxError\u001b[0m\u001b[1;31m:\u001b[0m invalid syntax\n"
     ]
    }
   ],
   "source": [
    "Object\n",
    "An object is an entity that has attributes and behaviour. \n",
    "\n",
    "------------------------------------------------------\n",
    "Class\n",
    "A class is a blueprint for the code desing/objects.\n",
    "class plays vital role in any programming language\n",
    "\n",
    "---------------------------------------------------------\n",
    "\n",
    "Methods\n",
    "method ---> a function written inside a class is called a method\n",
    " an object has attributes and behaviours. \n",
    "These behaviours are called methods in programming.\n",
    "\n",
    "------------------------------------------------------------\n",
    "\n",
    "\n",
    "Attributes --> A var written inside a class is called attributes"
   ]
  },
  {
   "cell_type": "code",
   "execution_count": null,
   "metadata": {},
   "outputs": [],
   "source": [
    "syntax to define a class\n",
    "\n",
    "class Dog:\n",
    "    pass\n",
    "\n",
    "---> under class we have variables and methods\n",
    "\n",
    "variables --> instace, static variable, loacal variables\n",
    "instance variable --> object level variable\n",
    "static variables --> class level varaiables\n",
    "Local variable --> method level variables\n",
    "\n",
    "methods:---> instance, static, class methods"
   ]
  },
  {
   "cell_type": "code",
   "execution_count": null,
   "metadata": {},
   "outputs": [],
   "source": [
    "\"\"\"syntax to define a method inside a class\"\"\"\n",
    "\n",
    "# A simple example class \n",
    "class Test: \n",
    "      \n",
    "    # A sample method  \n",
    "    def fun(self): \n",
    "        print(\"Hello\") \n",
    "        \n",
    "        "
   ]
  },
  {
   "cell_type": "code",
   "execution_count": null,
   "metadata": {},
   "outputs": [],
   "source": [
    "# Driver code \n",
    "obj = Test() \n",
    "obj.fun()"
   ]
  },
  {
   "cell_type": "code",
   "execution_count": 2,
   "metadata": {},
   "outputs": [
    {
     "name": "stdout",
     "output_type": "stream",
     "text": [
      "Height of Ram is 6\n",
      "Weight of Ram is 60\n",
      "Ram is eating Pizza\n",
      "Weight of Steve is 5.9\n",
      "Weight of Steve is 56\n",
      "Steve is eating Big Kahuna Burger\n"
     ]
    }
   ],
   "source": [
    "# example for class and object\n",
    "\n",
    "\n",
    "class Human:\n",
    "    # instance attributes\n",
    "    def __init__(self, name, height, weight):\n",
    "        self.name = name\n",
    "        self.height = height\n",
    "        self.weight = weight\n",
    "\n",
    "    # instance methods (behaviours)\n",
    "    def eating(self, food):\n",
    "        return \"{} is eating {}\".format(self.name, food)\n",
    "\n",
    "\n",
    "# creating objects of class Human\n",
    "ram = Human(\"Ram\", 6, 60)\n",
    "steve = Human(\"Steve\", 5.9, 56)\n",
    "\n",
    "# accessing object information\n",
    "print(\"Height of {} is {}\".format(ram.name, ram.height))\n",
    "print(\"Weight of {} is {}\".format(ram.name, ram.weight))\n",
    "print(ram.eating(\"Pizza\"))\n",
    "print(\"Weight of {} is {}\".format(steve.name, steve.height))\n",
    "print(\"Weight of {} is {}\".format(steve.name, steve.weight))\n",
    "print(steve.eating(\"Big Kahuna Burger\"))"
   ]
  },
  {
   "cell_type": "code",
   "execution_count": 3,
   "metadata": {},
   "outputs": [
    {
     "data": {
      "text/plain": [
       "'The self\\n\\nClass methods must have an extra first parameter in method definition. \\nWe do not give a value for this parameter when we call the method, Python provides it\\nIf we have a method which takes no arguments,\\nthen we still have to have one argument – the self. See fun() in above simple example.'"
      ]
     },
     "execution_count": 3,
     "metadata": {},
     "output_type": "execute_result"
    }
   ],
   "source": [
    "\"\"\"The self\n",
    "\n",
    "Class methods must have an extra first parameter in method definition. \n",
    "We do not give a value for this parameter when we call the method, Python provides it\n",
    "If we have a method which takes no arguments,\n",
    "then we still have to have one argument – the self. See fun() in above simple example.\"\"\""
   ]
  },
  {
   "cell_type": "code",
   "execution_count": 5,
   "metadata": {},
   "outputs": [
    {
     "name": "stdout",
     "output_type": "stream",
     "text": [
      "Labrador is barking.\n"
     ]
    }
   ],
   "source": [
    "class Dog:\n",
    " \n",
    "    def __init__(self, breed):\n",
    "        self.breed = breed\n",
    " \n",
    "    def bark(self):\n",
    "        print(f'{self.breed} is barking.')\n",
    " \n",
    " \n",
    "d = Dog('Labrador')\n",
    "d.bark()"
   ]
  },
  {
   "cell_type": "code",
   "execution_count": null,
   "metadata": {},
   "outputs": [],
   "source": [
    "\"\"\"The __init__() function is defined with two variables but when we are creating the Dog instance,\n",
    "we have to provide only one argument. The “self” is automatically assigned to the newly created instance of Dog class.\n",
    "The bark() method has only one argument – “self” – which gets bind to the Dog instance that\n",
    "calls this method. That’s why we are not passing any argument when calling the bark() method.\n",
    "If we have to access any instance variable in the function, we can use the dot operator. \"\"\"\n"
   ]
  },
  {
   "cell_type": "code",
   "execution_count": 8,
   "metadata": {},
   "outputs": [
    {
     "name": "stdout",
     "output_type": "stream",
     "text": [
      "Done\n"
     ]
    },
    {
     "data": {
      "text/plain": [
       "'If you will run the above code, there won’t be any error. \\nBut, we are not calling the bark() method. Let’s see what happens when we try to call the bark() method.'"
      ]
     },
     "execution_count": 8,
     "metadata": {},
     "output_type": "execute_result"
    }
   ],
   "source": [
    "\"\"\"Can we skip “self” variable?\n",
    "What if the instance method doesn’t need to access instance variables. Can we skip the self variable in this case?\n",
    "\n",
    "Let’s find out with a simple example.\"\"\"\n",
    "\n",
    "class Dog:\n",
    " \n",
    "    def bark():\n",
    "        print('Barking')\n",
    " \n",
    "d = Dog()\n",
    "print(\"Done\")\n",
    "\n",
    "\n",
    "\"\"\"If you will run the above code, there won’t be any error. \n",
    "But, we are not calling the bark() method. Let’s see what happens when we try to call the bark() method.\"\"\""
   ]
  },
  {
   "cell_type": "code",
   "execution_count": 7,
   "metadata": {},
   "outputs": [
    {
     "name": "stdout",
     "output_type": "stream",
     "text": [
      "Done\n"
     ]
    }
   ],
   "source": [
    "https://www.askpython.com/python/python-self-variable"
   ]
  },
  {
   "cell_type": "code",
   "execution_count": 4,
   "metadata": {},
   "outputs": [
    {
     "ename": "SyntaxError",
     "evalue": "invalid syntax (<ipython-input-4-1d130e107145>, line 4)",
     "output_type": "error",
     "traceback": [
      "\u001b[1;36m  File \u001b[1;32m\"<ipython-input-4-1d130e107145>\"\u001b[1;36m, line \u001b[1;32m4\u001b[0m\n\u001b[1;33m    the method __init__ simulates the constructor of the class.\u001b[0m\n\u001b[1;37m             ^\u001b[0m\n\u001b[1;31mSyntaxError\u001b[0m\u001b[1;31m:\u001b[0m invalid syntax\n"
     ]
    }
   ],
   "source": [
    "### constructors in python\n",
    "\n",
    "\n",
    "the method __init__ simulates the constructor of the class. \n",
    "This method is called when the class is instantiated. We can pass any number of arguments at the time of creating \n",
    "the class object, depending upon __init__ definition. It is mostly used to initialize the class attributes. \n",
    "Every class must have a constructor, even if it simply relies on the default constructor.\n",
    "\n",
    "\n",
    "\n",
    "\n",
    "# we have\n",
    "\n",
    "default \n",
    "parameteried"
   ]
  },
  {
   "cell_type": "code",
   "execution_count": null,
   "metadata": {},
   "outputs": [],
   "source": [
    "default constructor :The default constructor is simple constructor which doesn’t accept any arguments.\n",
    "    It’s definition has only one argument which is a reference to the instance being constructed."
   ]
  },
  {
   "cell_type": "code",
   "execution_count": null,
   "metadata": {},
   "outputs": [],
   "source": [
    "# example for default constructor\n",
    "\n",
    "\n",
    "class ProgrammingBuddies: \n",
    "  \n",
    "    # default constructor \n",
    "    def __init__(self): \n",
    "        self.session = \"ProgrammingBuddies\"\n",
    "  \n",
    "    # a method for printing data members \n",
    "    def print_session(self): \n",
    "        print(self.session) \n",
    "  \n",
    "  \n",
    "# creating object of the class \n",
    "obj = ProgrammingBuddies() \n",
    "  \n",
    "# calling the instance method using the object obj \n",
    "obj.print_session() "
   ]
  },
  {
   "cell_type": "code",
   "execution_count": null,
   "metadata": {},
   "outputs": [],
   "source": [
    "# one more example for default or non parameterised\n",
    "\n",
    "class Student:    \n",
    "    # Constructor - non parameterized    \n",
    "    def __init__(self):    \n",
    "        print(\"This is non parametrized constructor\")    \n",
    "    def show(self,name):    \n",
    "        print(\"Hello\",name)    \n",
    "student = Student()    \n",
    "student.show(\"John\")   "
   ]
  },
  {
   "cell_type": "code",
   "execution_count": null,
   "metadata": {},
   "outputs": [],
   "source": [
    "# example for para meterised constructor\n",
    "\n",
    "\n",
    "class Addition: \n",
    "    first = 0\n",
    "    second = 0\n",
    "    answer = 0\n",
    "      \n",
    "    # parameterized constructor \n",
    "    def __init__(self, f, s): \n",
    "        self.first = f \n",
    "        self.second = s \n",
    "      \n",
    "    def display(self): \n",
    "        print(\"First number = \" + str(self.first)) \n",
    "        print(\"Second number = \" + str(self.second)) \n",
    "        print(\"Addition of two numbers = \" + str(self.answer)) \n",
    "  \n",
    "    def calculate(self): \n",
    "        self.answer = self.first + self.second \n",
    "  \n",
    "# creating object of the class \n",
    "# this will invoke parameterized constructor \n",
    "obj = Addition(1000, 2000) \n",
    "  \n",
    "# perform Addition \n",
    "obj.calculate() \n",
    "  \n",
    "# display result \n",
    "obj.display()"
   ]
  },
  {
   "cell_type": "code",
   "execution_count": null,
   "metadata": {},
   "outputs": [],
   "source": [
    "# one more example for parameterised :\n",
    "\n",
    "class Student:    \n",
    "    # Constructor - parameterized    \n",
    "    def __init__(self, name):    \n",
    "        print(\"This is parametrized constructor\")    \n",
    "        self.name = name    \n",
    "    def show(self):    \n",
    "        print(\"Hello\",self.name)    \n",
    "student = Student(\"John\")    \n",
    "student.show()  "
   ]
  },
  {
   "cell_type": "code",
   "execution_count": null,
   "metadata": {},
   "outputs": [],
   "source": []
  },
  {
   "cell_type": "code",
   "execution_count": null,
   "metadata": {},
   "outputs": [],
   "source": []
  },
  {
   "cell_type": "code",
   "execution_count": null,
   "metadata": {},
   "outputs": [],
   "source": [
    "# example fot method, class\n",
    "\n",
    "class Employee:  \n",
    "    def __init__(self,name,id):  \n",
    "        self.id = id;  \n",
    "        self.name = name;  \n",
    "    def display (self):  \n",
    "        print(\"ID: %d \\nName: %s\"%(self.id,self.name))  \n",
    "emp1 = Employee(\"John\",101)  \n",
    "emp2 = Employee(\"David\",102)  \n",
    "  \n",
    "#accessing display() method to print employee 1 information  \n",
    "   \n",
    "emp1.display();   \n",
    "  \n",
    "#accessing display() method to print employee 2 information  \n",
    "emp2.display();   "
   ]
  },
  {
   "cell_type": "code",
   "execution_count": null,
   "metadata": {},
   "outputs": [],
   "source": []
  },
  {
   "cell_type": "code",
   "execution_count": null,
   "metadata": {},
   "outputs": [],
   "source": []
  },
  {
   "cell_type": "code",
   "execution_count": null,
   "metadata": {},
   "outputs": [],
   "source": []
  },
  {
   "cell_type": "code",
   "execution_count": null,
   "metadata": {},
   "outputs": [],
   "source": []
  },
  {
   "cell_type": "code",
   "execution_count": null,
   "metadata": {},
   "outputs": [],
   "source": [
    "# lets create the class attributes\n",
    "\n",
    "class Dog:\n",
    "\n",
    "    # Class Attribute\n",
    "    species = 'mammal'\n",
    "\n",
    "    # Initializer / Instance Attributes\n",
    "    def __init__(self, name, age):\n",
    "        self.name = name\n",
    "        self.age = age"
   ]
  },
  {
   "cell_type": "code",
   "execution_count": null,
   "metadata": {},
   "outputs": [],
   "source": [
    "# Instantiate the Dog object\n",
    "philo = Dog(\"Philo\", 5)\n",
    "mikey = Dog(\"Mikey\", 6)\n",
    "\n",
    "# Access the instance attributes\n",
    "print(\"{} is {} and {} is {}.\".format(\n",
    "    philo.name, philo.age, mikey.name, mikey.age))\n",
    "\n",
    "# Is Philo a mammal?\n",
    "if philo.species == \"mammal\":\n",
    "    print(\"{0} is a {1}!\".format(philo.name, philo.species))"
   ]
  },
  {
   "cell_type": "code",
   "execution_count": null,
   "metadata": {},
   "outputs": [],
   "source": []
  },
  {
   "cell_type": "code",
   "execution_count": null,
   "metadata": {},
   "outputs": [],
   "source": [
    "# instance methods:\n",
    "\n",
    "\n",
    "class Dog:\n",
    "\n",
    "    # Class Attribute\n",
    "    species = 'mammal'\n",
    "\n",
    "    # Initializer / Instance Attributes\n",
    "    def __init__(self, name, age):\n",
    "        self.name = name\n",
    "        self.age = age\n",
    "\n",
    "    # instance method\n",
    "    def description(self):\n",
    "        return \"{} is {} years old\".format(self.name, self.age)\n",
    "\n",
    "    # instance method\n",
    "    def speak(self, sound):\n",
    "        return \"{} says {}\".format(self.name, sound)\n",
    "\n",
    "# Instantiate the Dog object\n",
    "mikey = Dog(\"Mikey\", 6)\n",
    "\n",
    "# call our instance methods\n",
    "print(mikey.description())\n",
    "print(mikey.speak(\"Gruff Gruff\"))"
   ]
  },
  {
   "cell_type": "code",
   "execution_count": null,
   "metadata": {},
   "outputs": [],
   "source": []
  },
  {
   "cell_type": "code",
   "execution_count": null,
   "metadata": {},
   "outputs": [],
   "source": [
    "\n",
    "\n",
    "class Dog:\n",
    "\n",
    "    # Initializer / Instance Attributes\n",
    "    def __init__(self, name, age):\n",
    "        self.name = name\n",
    "        self.age = age"
   ]
  },
  {
   "cell_type": "code",
   "execution_count": null,
   "metadata": {},
   "outputs": [],
   "source": []
  },
  {
   "cell_type": "code",
   "execution_count": null,
   "metadata": {},
   "outputs": [],
   "source": []
  },
  {
   "cell_type": "code",
   "execution_count": null,
   "metadata": {},
   "outputs": [],
   "source": []
  },
  {
   "cell_type": "code",
   "execution_count": null,
   "metadata": {},
   "outputs": [],
   "source": []
  },
  {
   "cell_type": "code",
   "execution_count": null,
   "metadata": {},
   "outputs": [],
   "source": []
  },
  {
   "cell_type": "code",
   "execution_count": null,
   "metadata": {},
   "outputs": [],
   "source": []
  },
  {
   "cell_type": "code",
   "execution_count": null,
   "metadata": {},
   "outputs": [],
   "source": []
  },
  {
   "cell_type": "code",
   "execution_count": null,
   "metadata": {},
   "outputs": [],
   "source": [
    "\n",
    "\n"
   ]
  },
  {
   "cell_type": "code",
   "execution_count": null,
   "metadata": {},
   "outputs": [],
   "source": []
  },
  {
   "cell_type": "code",
   "execution_count": null,
   "metadata": {},
   "outputs": [],
   "source": []
  },
  {
   "cell_type": "code",
   "execution_count": null,
   "metadata": {},
   "outputs": [],
   "source": []
  },
  {
   "cell_type": "code",
   "execution_count": null,
   "metadata": {},
   "outputs": [],
   "source": []
  },
  {
   "cell_type": "code",
   "execution_count": null,
   "metadata": {},
   "outputs": [],
   "source": []
  },
  {
   "cell_type": "code",
   "execution_count": null,
   "metadata": {},
   "outputs": [],
   "source": [
    "class Human:\n",
    "    # instance attributes\n",
    "    def __init__(self, name, height, weight):\n",
    "        self.name = name\n",
    "        self.height = height\n",
    "        self.weight = weight\n",
    "\n",
    "    # instance methods (behaviours)\n",
    "    def eating(self, food):\n",
    "        return \"{} is eating {}\".format(self.name, food)\n",
    "\n",
    "\n",
    "# creating objects of class Human\n",
    "ram = Human(\"Ram\", 6, 60)\n",
    "steve = Human(\"Steve\", 5.9, 56)\n",
    "\n",
    "# accessing object information\n",
    "print(\"Height of {} is {}\".format(ram.name, ram.height))\n",
    "print(\"Weight of {} is {}\".format(ram.name, ram.weight))\n",
    "print(ram.eating(\"Pizza\"))\n",
    "print(\"Weight of {} is {}\".format(steve.name, steve.height))\n",
    "print(\"Weight of {} is {}\".format(steve.name, steve.weight))\n",
    "print(steve.eating(\"Big Kahuna Burger\"))"
   ]
  },
  {
   "cell_type": "code",
   "execution_count": 9,
   "metadata": {},
   "outputs": [
    {
     "ename": "AttributeError",
     "evalue": "'Student' object has no attribute 'name'",
     "output_type": "error",
     "traceback": [
      "\u001b[1;31m---------------------------------------------------------------------------\u001b[0m",
      "\u001b[1;31mAttributeError\u001b[0m                            Traceback (most recent call last)",
      "\u001b[1;32m<ipython-input-9-b325e62f6930>\u001b[0m in \u001b[0;36m<module>\u001b[1;34m\u001b[0m\n\u001b[0;32m     10\u001b[0m \u001b[1;33m\u001b[0m\u001b[0m\n\u001b[0;32m     11\u001b[0m \u001b[0ms1\u001b[0m\u001b[1;33m=\u001b[0m\u001b[0mStudent\u001b[0m\u001b[1;33m(\u001b[0m\u001b[1;33m)\u001b[0m\u001b[1;33m\u001b[0m\u001b[1;33m\u001b[0m\u001b[0m\n\u001b[1;32m---> 12\u001b[1;33m \u001b[0ms1\u001b[0m\u001b[1;33m.\u001b[0m\u001b[0mtalk\u001b[0m\u001b[1;33m(\u001b[0m\u001b[1;33m)\u001b[0m\u001b[1;33m\u001b[0m\u001b[1;33m\u001b[0m\u001b[0m\n\u001b[0m\u001b[0;32m     13\u001b[0m \u001b[1;33m\u001b[0m\u001b[0m\n\u001b[0;32m     14\u001b[0m \u001b[1;33m\u001b[0m\u001b[0m\n",
      "\u001b[1;32m<ipython-input-9-b325e62f6930>\u001b[0m in \u001b[0;36mtalk\u001b[1;34m(self)\u001b[0m\n\u001b[0;32m      5\u001b[0m         \u001b[0mself\u001b[0m\u001b[1;33m.\u001b[0m\u001b[0mmarks\u001b[0m\u001b[1;33m=\u001b[0m\u001b[0mmarks\u001b[0m\u001b[1;33m\u001b[0m\u001b[1;33m\u001b[0m\u001b[0m\n\u001b[0;32m      6\u001b[0m     \u001b[1;32mdef\u001b[0m \u001b[0mtalk\u001b[0m\u001b[1;33m(\u001b[0m\u001b[0mself\u001b[0m\u001b[1;33m)\u001b[0m\u001b[1;33m:\u001b[0m\u001b[1;33m\u001b[0m\u001b[1;33m\u001b[0m\u001b[0m\n\u001b[1;32m----> 7\u001b[1;33m         \u001b[0mprint\u001b[0m\u001b[1;33m(\u001b[0m\u001b[1;34m\"My name is\"\u001b[0m\u001b[1;33m,\u001b[0m\u001b[0mself\u001b[0m\u001b[1;33m.\u001b[0m\u001b[0mname\u001b[0m\u001b[1;33m)\u001b[0m\u001b[1;33m\u001b[0m\u001b[1;33m\u001b[0m\u001b[0m\n\u001b[0m\u001b[0;32m      8\u001b[0m         \u001b[0mprint\u001b[0m\u001b[1;33m(\u001b[0m\u001b[1;34m\"my roll no is\"\u001b[0m\u001b[1;33m,\u001b[0m\u001b[0mself\u001b[0m\u001b[1;33m.\u001b[0m\u001b[0mrollno\u001b[0m\u001b[1;33m)\u001b[0m\u001b[1;33m\u001b[0m\u001b[1;33m\u001b[0m\u001b[0m\n\u001b[0;32m      9\u001b[0m         \u001b[0mprint\u001b[0m\u001b[1;33m(\u001b[0m\u001b[1;34m\"my marks are\"\u001b[0m\u001b[1;33m,\u001b[0m \u001b[0mself\u001b[0m\u001b[1;33m.\u001b[0m\u001b[0mmarks\u001b[0m\u001b[1;33m)\u001b[0m\u001b[1;33m\u001b[0m\u001b[1;33m\u001b[0m\u001b[0m\n",
      "\u001b[1;31mAttributeError\u001b[0m: 'Student' object has no attribute 'name'"
     ]
    }
   ],
   "source": [
    "class Student:\n",
    "    def _init_(self,name,rollno,marks):\n",
    "        self.name=name\n",
    "        self.rollno=rollno\n",
    "        self.marks=marks\n",
    "    def talk(self):\n",
    "        print(\"My name is\",self.name)\n",
    "        print(\"my roll no is\",self.rollno)\n",
    "        print(\"my marks are\", self.marks)\n",
    "        \n",
    "s1=Student()\n",
    "s1.talk()\n",
    "        \n",
    "    \n",
    "    \n",
    "    \n",
    "    "
   ]
  },
  {
   "cell_type": "code",
   "execution_count": null,
   "metadata": {},
   "outputs": [],
   "source": []
  },
  {
   "cell_type": "code",
   "execution_count": null,
   "metadata": {},
   "outputs": [],
   "source": []
  },
  {
   "cell_type": "code",
   "execution_count": null,
   "metadata": {},
   "outputs": [],
   "source": []
  },
  {
   "cell_type": "code",
   "execution_count": null,
   "metadata": {},
   "outputs": [],
   "source": []
  },
  {
   "cell_type": "code",
   "execution_count": null,
   "metadata": {},
   "outputs": [],
   "source": []
  }
 ],
 "metadata": {
  "kernelspec": {
   "display_name": "Python 3",
   "language": "python",
   "name": "python3"
  },
  "language_info": {
   "codemirror_mode": {
    "name": "ipython",
    "version": 3
   },
   "file_extension": ".py",
   "mimetype": "text/x-python",
   "name": "python",
   "nbconvert_exporter": "python",
   "pygments_lexer": "ipython3",
   "version": "3.7.6"
  }
 },
 "nbformat": 4,
 "nbformat_minor": 4
}
